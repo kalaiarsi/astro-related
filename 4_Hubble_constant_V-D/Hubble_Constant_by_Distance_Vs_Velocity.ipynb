{
 "cells": [
  {
   "cell_type": "markdown",
   "metadata": {},
   "source": [
    "## Hubble constant\n",
    "### Method : (i) Plot receding velocity Vs Distance, (ii) Fit MSE line for the plot, (iii) slope gives H<sub>c</sub>\n",
    "\n",
    "### Steps:\n",
    "\n",
    "1. Download dataset and arrange columns\n",
    "2. Import the dataset into this python code\n",
    "3. Clean up the dataset (remove rows with missing / invalid values)\n",
    "4. Plot Distance Vs Velocity (use scatterplot)\n"
   ]
  },
  {
   "cell_type": "markdown",
   "metadata": {},
   "source": [
    "**Step 1:Download dataset and arrange columns**    \n",
    "\n",
    "https://ned.ipac.caltech.edu/level5/NED1D/intro.html\n",
    "\n",
    "Save the dataset as 'NED.xlsx' in the working directory."
   ]
  },
  {
   "cell_type": "markdown",
   "metadata": {},
   "source": [
    "**Step 2: Import the dataset into this python code **"
   ]
  },
  {
   "cell_type": "code",
   "execution_count": 1,
   "metadata": {
    "collapsed": false
   },
   "outputs": [
    {
     "name": "stdout",
     "output_type": "stream",
     "text": [
      "[u'Sheet1']\n"
     ]
    }
   ],
   "source": [
    "# instead of arrays, we will use dataframes for the data\n",
    "import pandas as pd\n",
    "xls_file=pd.ExcelFile('NED.xlsx')\n",
    "print(xls_file.sheet_names)"
   ]
  },
  {
   "cell_type": "code",
   "execution_count": 2,
   "metadata": {
    "collapsed": false
   },
   "outputs": [
    {
     "name": "stdout",
     "output_type": "stream",
     "text": [
      "Index([u'Galaxy Name', u'm-M', u'err', u'Distance_Mpc', u'Method', u'REFCODE',\n",
      "       u'Notes', u'RA', u'Dec', u'GLON', u'GLAT', u'Velocity_kmpersec',\n",
      "       u'Type (RC3)'],\n",
      "      dtype='object')\n"
     ]
    },
    {
     "data": {
      "text/html": [
       "<div>\n",
       "<style>\n",
       "    .dataframe thead tr:only-child th {\n",
       "        text-align: right;\n",
       "    }\n",
       "\n",
       "    .dataframe thead th {\n",
       "        text-align: left;\n",
       "    }\n",
       "\n",
       "    .dataframe tbody tr th {\n",
       "        vertical-align: top;\n",
       "    }\n",
       "</style>\n",
       "<table border=\"1\" class=\"dataframe\">\n",
       "  <thead>\n",
       "    <tr style=\"text-align: right;\">\n",
       "      <th></th>\n",
       "      <th>Galaxy Name</th>\n",
       "      <th>m-M</th>\n",
       "      <th>err</th>\n",
       "      <th>Distance_Mpc</th>\n",
       "      <th>Method</th>\n",
       "      <th>REFCODE</th>\n",
       "      <th>Notes</th>\n",
       "      <th>RA</th>\n",
       "      <th>Dec</th>\n",
       "      <th>GLON</th>\n",
       "      <th>GLAT</th>\n",
       "      <th>Velocity_kmpersec</th>\n",
       "      <th>Type (RC3)</th>\n",
       "    </tr>\n",
       "  </thead>\n",
       "  <tbody>\n",
       "    <tr>\n",
       "      <th>0</th>\n",
       "      <td>*GOODS J123655.45+621311.6</td>\n",
       "      <td>44.28*</td>\n",
       "      <td>0.31</td>\n",
       "      <td>3673.0</td>\n",
       "      <td>SNIa</td>\n",
       "      <td>2004ApJ...607..665R</td>\n",
       "      <td>SN 2003es, z = 0.954</td>\n",
       "      <td>12:36:55.400000</td>\n",
       "      <td>+62:13:11.4</td>\n",
       "      <td>125.9</td>\n",
       "      <td>54.8</td>\n",
       "      <td>175349</td>\n",
       "      <td>-</td>\n",
       "    </tr>\n",
       "    <tr>\n",
       "      <th>1</th>\n",
       "      <td>*GOODS J123655.45+621311.6</td>\n",
       "      <td>44.30*</td>\n",
       "      <td>0.27</td>\n",
       "      <td>3707.0</td>\n",
       "      <td>SNIa</td>\n",
       "      <td>2006astro.ph.11572R</td>\n",
       "      <td>SN 2003es, z = 0.954</td>\n",
       "      <td>12:36:55.400000</td>\n",
       "      <td>+62:13:11.4</td>\n",
       "      <td>125.9</td>\n",
       "      <td>54.8</td>\n",
       "      <td>175349</td>\n",
       "      <td>-</td>\n",
       "    </tr>\n",
       "    <tr>\n",
       "      <th>2</th>\n",
       "      <td>*MDS uhdfk-27</td>\n",
       "      <td>42.14*</td>\n",
       "      <td>0.19</td>\n",
       "      <td>1817.0</td>\n",
       "      <td>SNIa</td>\n",
       "      <td>2004ApJ...607..665R</td>\n",
       "      <td>SN 2002dc, z = 0.47452</td>\n",
       "      <td>12:36:49.700000</td>\n",
       "      <td>+62:13:13.1</td>\n",
       "      <td>125.9</td>\n",
       "      <td>54.8</td>\n",
       "      <td>110900</td>\n",
       "      <td>-</td>\n",
       "    </tr>\n",
       "  </tbody>\n",
       "</table>\n",
       "</div>"
      ],
      "text/plain": [
       "                  Galaxy Name     m-M   err  Distance_Mpc Method  \\\n",
       "0  *GOODS J123655.45+621311.6  44.28*  0.31        3673.0   SNIa   \n",
       "1  *GOODS J123655.45+621311.6  44.30*  0.27        3707.0   SNIa   \n",
       "2               *MDS uhdfk-27  42.14*  0.19        1817.0   SNIa   \n",
       "\n",
       "               REFCODE                   Notes               RA          Dec  \\\n",
       "0  2004ApJ...607..665R    SN 2003es, z = 0.954  12:36:55.400000  +62:13:11.4   \n",
       "1  2006astro.ph.11572R    SN 2003es, z = 0.954  12:36:55.400000  +62:13:11.4   \n",
       "2  2004ApJ...607..665R  SN 2002dc, z = 0.47452  12:36:49.700000  +62:13:13.1   \n",
       "\n",
       "    GLON  GLAT Velocity_kmpersec Type (RC3)  \n",
       "0  125.9  54.8            175349          -  \n",
       "1  125.9  54.8            175349          -  \n",
       "2  125.9  54.8            110900          -  "
      ]
     },
     "execution_count": 2,
     "metadata": {},
     "output_type": "execute_result"
    }
   ],
   "source": [
    "df = xls_file.parse('Sheet1')\n",
    "print(df.columns) # displays columns names\n",
    "df[:3] # displays first three rows alone"
   ]
  },
  {
   "cell_type": "markdown",
   "metadata": {},
   "source": [
    "As you see, we dont all those columns. \n",
    "\n",
    "All we need are distance,velocity, object type and obviously the object name.\n",
    "\n",
    "Extract these columns alone. Rename columns for easy access."
   ]
  },
  {
   "cell_type": "code",
   "execution_count": 25,
   "metadata": {
    "collapsed": false
   },
   "outputs": [
    {
     "name": "stdout",
     "output_type": "stream",
     "text": [
      "Index([u'Galaxy Name', u'Distance_Mpc', u'Velocity_kmpersec', u'Method'], dtype='object')\n"
     ]
    }
   ],
   "source": [
    "data=df[['Galaxy Name','Distance_Mpc','Velocity_kmpersec','Method']] # extracts columns: 1,4,12,5 \n",
    "#data\n",
    "print(data.columns)"
   ]
  },
  {
   "cell_type": "code",
   "execution_count": 26,
   "metadata": {
    "collapsed": false
   },
   "outputs": [
    {
     "name": "stdout",
     "output_type": "stream",
     "text": [
      "Index([u'Object', u'Distance', u'Velocity', u'Type'], dtype='object')\n"
     ]
    },
    {
     "data": {
      "text/html": [
       "<div>\n",
       "<style>\n",
       "    .dataframe thead tr:only-child th {\n",
       "        text-align: right;\n",
       "    }\n",
       "\n",
       "    .dataframe thead th {\n",
       "        text-align: left;\n",
       "    }\n",
       "\n",
       "    .dataframe tbody tr th {\n",
       "        vertical-align: top;\n",
       "    }\n",
       "</style>\n",
       "<table border=\"1\" class=\"dataframe\">\n",
       "  <thead>\n",
       "    <tr style=\"text-align: right;\">\n",
       "      <th></th>\n",
       "      <th>Object</th>\n",
       "      <th>Distance</th>\n",
       "      <th>Velocity</th>\n",
       "      <th>Type</th>\n",
       "    </tr>\n",
       "  </thead>\n",
       "  <tbody>\n",
       "    <tr>\n",
       "      <th>0</th>\n",
       "      <td>*GOODS J123655.45+621311.6</td>\n",
       "      <td>3673.0</td>\n",
       "      <td>175349</td>\n",
       "      <td>SNIa</td>\n",
       "    </tr>\n",
       "    <tr>\n",
       "      <th>1</th>\n",
       "      <td>*GOODS J123655.45+621311.6</td>\n",
       "      <td>3707.0</td>\n",
       "      <td>175349</td>\n",
       "      <td>SNIa</td>\n",
       "    </tr>\n",
       "    <tr>\n",
       "      <th>2</th>\n",
       "      <td>*MDS uhdfk-27</td>\n",
       "      <td>1817.0</td>\n",
       "      <td>110900</td>\n",
       "      <td>SNIa</td>\n",
       "    </tr>\n",
       "    <tr>\n",
       "      <th>3</th>\n",
       "      <td>*MDS uhdfk-27</td>\n",
       "      <td>1902.0</td>\n",
       "      <td>110900</td>\n",
       "      <td>SNIa</td>\n",
       "    </tr>\n",
       "    <tr>\n",
       "      <th>4</th>\n",
       "      <td>*MS 1133.7+1618</td>\n",
       "      <td>1802.0</td>\n",
       "      <td>108330</td>\n",
       "      <td>BL Lac M</td>\n",
       "    </tr>\n",
       "  </tbody>\n",
       "</table>\n",
       "</div>"
      ],
      "text/plain": [
       "                       Object  Distance Velocity      Type\n",
       "0  *GOODS J123655.45+621311.6    3673.0   175349      SNIa\n",
       "1  *GOODS J123655.45+621311.6    3707.0   175349      SNIa\n",
       "2               *MDS uhdfk-27    1817.0   110900      SNIa\n",
       "3               *MDS uhdfk-27    1902.0   110900      SNIa\n",
       "4             *MS 1133.7+1618    1802.0   108330  BL Lac M"
      ]
     },
     "execution_count": 26,
     "metadata": {},
     "output_type": "execute_result"
    }
   ],
   "source": [
    "data.columns=['Object','Distance','Velocity','Type']  #rename column names\n",
    "print(data.columns)\n",
    "data[:5] # displays first five rows of columns:Distance and velocity"
   ]
  },
  {
   "cell_type": "markdown",
   "metadata": {},
   "source": [
    "Now, that we have the necessary data columns, let us look at the data and clean it.\n",
    "\n",
    "** Section 3: Clean up the dataset (remove rows with missing / invalid values) **\n"
   ]
  },
  {
   "cell_type": "code",
   "execution_count": 51,
   "metadata": {
    "collapsed": false
   },
   "outputs": [],
   "source": [
    "%matplotlib inline \n",
    "# above command plots the graphs/plots in this document/page rather than on a separate window.\n",
    "import numpy as np\n",
    "\n",
    "# first extract the distance, velocity, type columns alone\n",
    "df_data=data[['Distance','Velocity','Type']]\n",
    "# It is common to have a few entries missing in the dataset.\n",
    "# So, first and foremost, remove those rows which have atleast one missing entry\n",
    "df_data=df_data.dropna(how='all')\n"
   ]
  },
  {
   "cell_type": "markdown",
   "metadata": {},
   "source": [
    "Let us plot Distance Vs velocity."
   ]
  },
  {
   "cell_type": "code",
   "execution_count": 63,
   "metadata": {
    "collapsed": false
   },
   "outputs": [
    {
     "name": "stdout",
     "output_type": "stream",
     "text": [
      "Index([u'Distance', u'Velocity', u'Type'], dtype='object')\n"
     ]
    },
    {
     "data": {
      "text/plain": [
       "<matplotlib.collections.PathCollection at 0x7fc6f3f65fd0>"
      ]
     },
     "execution_count": 63,
     "metadata": {},
     "output_type": "execute_result"
    },
    {
     "data": {
      "image/png": "[encoded data removed]",
      "text/plain": [
       "<matplotlib.figure.Figure at 0x7fc6f3f55990>"
      ]
     },
     "metadata": {},
     "output_type": "display_data"
    }
   ],
   "source": [
    "import matplotlib.pyplot as plt\n",
    "import matplotlib\n",
    "matplotlib.style.use('ggplot') # gives a neat layout\n",
    "print(df_data.columns)\n",
    "df_data=df_data[pd.notnull(df_data)]\n",
    "# plotting just few.\n",
    "plt.scatter(df_data.Distance[:100],df_data.Velocity[:100]) "
   ]
  },
  {
   "cell_type": "code",
   "execution_count": 67,
   "metadata": {
    "collapsed": false
   },
   "outputs": [
    {
     "name": "stdout",
     "output_type": "stream",
     "text": [
      "(4039, 3)\n",
      "(4039, 3)\n"
     ]
    }
   ],
   "source": [
    "# see the dimension before removing non-numeric entries\n",
    "print(df_data.shape)\n",
    "df_dist_vel=df_data[['Distance','Velocity']]\n",
    "\n",
    "# check if the rows are all numeric or not. returns : \n",
    "# True (if all entries in that row are numeric), False (if atleast one entry is non-numeric)\n",
    "okay_rows=df_dist_vel.applymap(np.isreal).all(1)\n",
    "# retrieve only those rows that have all numeric entries.\n",
    "df_data=df_data[okay_rows] \n",
    "\n",
    "# see the dimension, after removing rows with non-numeric entries\n",
    "print(df_data.shape)"
   ]
  },
  {
   "cell_type": "markdown",
   "metadata": {},
   "source": [
    "Plot Distance Vs Velocity again."
   ]
  },
  {
   "cell_type": "code",
   "execution_count": 68,
   "metadata": {
    "collapsed": false
   },
   "outputs": [
    {
     "data": {
      "text/plain": [
       "<matplotlib.axes._subplots.AxesSubplot at 0x7fc6f45b1bd0>"
      ]
     },
     "execution_count": 68,
     "metadata": {},
     "output_type": "execute_result"
    },
    {
     "data": {
      "image/png": "[encoded data removed]",
      "text/plain": [
       "<matplotlib.figure.Figure at 0x7fc6f41d4310>"
      ]
     },
     "metadata": {},
     "output_type": "display_data"
    }
   ],
   "source": [
    "df_data.plot.scatter(x='Distance',y='Velocity')"
   ]
  },
  {
   "cell_type": "markdown",
   "metadata": {},
   "source": [
    "The weirdness, is because of one datapoint entry which has very high Distance. Let us find and remove that entry,"
   ]
  },
  {
   "cell_type": "code",
   "execution_count": 69,
   "metadata": {
    "collapsed": false
   },
   "outputs": [
    {
     "name": "stdout",
     "output_type": "stream",
     "text": [
      "      Distance Velocity      Type\n",
      "184    11150.0   253073       GRB\n",
      "182    13700.0   268198       GRB\n",
      "392    13870.0   245566    HII LF\n",
      "391    15200.0   265909    HII LF\n",
      "344  8141008.0    62818  BL Lac M\n"
     ]
    },
    {
     "data": {
      "text/html": [
       "<div>\n",
       "<style>\n",
       "    .dataframe thead tr:only-child th {\n",
       "        text-align: right;\n",
       "    }\n",
       "\n",
       "    .dataframe thead th {\n",
       "        text-align: left;\n",
       "    }\n",
       "\n",
       "    .dataframe tbody tr th {\n",
       "        vertical-align: top;\n",
       "    }\n",
       "</style>\n",
       "<table border=\"1\" class=\"dataframe\">\n",
       "  <thead>\n",
       "    <tr style=\"text-align: right;\">\n",
       "      <th></th>\n",
       "      <th>Distance</th>\n",
       "      <th>Velocity</th>\n",
       "      <th>Type</th>\n",
       "    </tr>\n",
       "  </thead>\n",
       "  <tbody>\n",
       "    <tr>\n",
       "      <th>220</th>\n",
       "      <td>11040.0</td>\n",
       "      <td>270563</td>\n",
       "      <td>GRB</td>\n",
       "    </tr>\n",
       "    <tr>\n",
       "      <th>184</th>\n",
       "      <td>11150.0</td>\n",
       "      <td>253073</td>\n",
       "      <td>GRB</td>\n",
       "    </tr>\n",
       "    <tr>\n",
       "      <th>182</th>\n",
       "      <td>13700.0</td>\n",
       "      <td>268198</td>\n",
       "      <td>GRB</td>\n",
       "    </tr>\n",
       "    <tr>\n",
       "      <th>392</th>\n",
       "      <td>13870.0</td>\n",
       "      <td>245566</td>\n",
       "      <td>HII LF</td>\n",
       "    </tr>\n",
       "    <tr>\n",
       "      <th>391</th>\n",
       "      <td>15200.0</td>\n",
       "      <td>265909</td>\n",
       "      <td>HII LF</td>\n",
       "    </tr>\n",
       "  </tbody>\n",
       "</table>\n",
       "</div>"
      ],
      "text/plain": [
       "     Distance Velocity    Type\n",
       "220   11040.0   270563     GRB\n",
       "184   11150.0   253073     GRB\n",
       "182   13700.0   268198     GRB\n",
       "392   13870.0   245566  HII LF\n",
       "391   15200.0   265909  HII LF"
      ]
     },
     "execution_count": 69,
     "metadata": {},
     "output_type": "execute_result"
    }
   ],
   "source": [
    "# sort the 'Distance' column\n",
    "df_data=df_data.sort_values('Distance')\n",
    "print(df_data.tail(5)) # last five rows\n",
    "df_data=df_data[:-1] # removes the last row (distance is too high).\n",
    "df_data.tail(5) # display again, after removing the last row"
   ]
  },
  {
   "cell_type": "markdown",
   "metadata": {},
   "source": [
    "Let us plot the Distance Vs Velocity again. :P"
   ]
  },
  {
   "cell_type": "code",
   "execution_count": 70,
   "metadata": {
    "collapsed": false
   },
   "outputs": [
    {
     "data": {
      "text/plain": [
       "<matplotlib.axes._subplots.AxesSubplot at 0x7fc6f4523ed0>"
      ]
     },
     "execution_count": 70,
     "metadata": {},
     "output_type": "execute_result"
    },
    {
     "data": {
      "image/png": "[encoded data removed]",
      "text/plain": [
       "<matplotlib.figure.Figure at 0x7fc6f3f5f390>"
      ]
     },
     "metadata": {},
     "output_type": "display_data"
    }
   ],
   "source": [
    "df_data.plot.scatter(x='Distance',y='Velocity')"
   ]
  },
  {
   "cell_type": "markdown",
   "metadata": {},
   "source": [
    "Why is not perfectly linear? because, the value of Hc is changing. the Universe is expanding faster now, than it was in the past. i.e. Accelerating universe. So, to get present day Hc, we will take measurements done in close distances alone."
   ]
  },
  {
   "cell_type": "markdown",
   "metadata": {},
   "source": [
    "Tuning the plot."
   ]
  },
  {
   "cell_type": "code",
   "execution_count": 71,
   "metadata": {
    "collapsed": false
   },
   "outputs": [
    {
     "data": {
      "text/plain": [
       "<matplotlib.axes._subplots.AxesSubplot at 0x7fc6f4580e90>"
      ]
     },
     "execution_count": 71,
     "metadata": {},
     "output_type": "execute_result"
    },
    {
     "data": {
      "image/png": "[encoded data removed]",
      "text/plain": [
       "<matplotlib.figure.Figure at 0x7fc6f45b1d90>"
      ]
     },
     "metadata": {},
     "output_type": "display_data"
    }
   ],
   "source": [
    "df_data.plot.scatter(x='Distance',y='Velocity', style='o',xlim=[0,4000],ylim=[0,3e5])"
   ]
  },
  {
   "cell_type": "code",
   "execution_count": 72,
   "metadata": {
    "collapsed": false
   },
   "outputs": [
    {
     "name": "stdout",
     "output_type": "stream",
     "text": [
      "     Distance Velocity      Type\n",
      "460     562.0    36555      SNIa\n",
      "101     563.0    38144  BL Lac M\n",
      "362     566.0    43201      SNIa\n",
      "103     576.0    39316  BL Lac M\n",
      "98      586.0    38540  BL Lac M\n"
     ]
    }
   ],
   "source": [
    "#x = [1,2,3,4]\n",
    "#y = [3,5,7,10] # 10, not 9, so the fit isn't perfect\n",
    "\n",
    "\n",
    "#df1.loc[lambda df: df.A > 0, :]\n",
    "\n",
    "df_data_local=df_data.loc[lambda df_data: df_data.Distance < 600, :]\n",
    "print(df_data_local.tail(5))"
   ]
  },
  {
   "cell_type": "code",
   "execution_count": 73,
   "metadata": {
    "collapsed": false
   },
   "outputs": [
    {
     "name": "stdout",
     "output_type": "stream",
     "text": [
      "(3648,)\n",
      "(3648,)\n",
      "[ 66.15263668  50.32971971]\n"
     ]
    },
    {
     "data": {
      "text/plain": [
       "[<matplotlib.lines.Line2D at 0x7fc6f2f42a50>,\n",
       " <matplotlib.lines.Line2D at 0x7fc6f41e8850>]"
      ]
     },
     "execution_count": 73,
     "metadata": {},
     "output_type": "execute_result"
    },
    {
     "data": {
      "image/png": "[encoded data removed]",
      "text/plain": [
       "<matplotlib.figure.Figure at 0x7fc6f4565a90>"
      ]
     },
     "metadata": {},
     "output_type": "display_data"
    }
   ],
   "source": [
    "x=df_data_local['Distance'].values\n",
    "y=df_data_local['Velocity'].values\n",
    "\n",
    "print(x.shape)\n",
    "print(y.shape)\n",
    "\n",
    "fit = np.polyfit(x,y,1) # fits a straight line.\n",
    "fit_fn = np.poly1d(fit)\n",
    "print(fit)\n",
    "# fit_fn is now a function which takes in x and returns an estimate for y\n",
    "\n",
    "plt.plot(x,y, 'yo', x, fit_fn(x), '--k')"
   ]
  },
  {
   "cell_type": "code",
   "execution_count": 74,
   "metadata": {
    "collapsed": false
   },
   "outputs": [
    {
     "name": "stdout",
     "output_type": "stream",
     "text": [
      "Hubble contant : \n",
      "66.1526366772 km / (Mpc s)\n"
     ]
    }
   ],
   "source": [
    "import astropy.units as u\n",
    "# refer our FITS video/codes for explanations on units..\n",
    "\n",
    "Hc = fit[0] * (u.km / u.second) / u.megaparsec # Hc=slope... unit: velocity/distance\n",
    "print('Hubble contant : ')\n",
    "print(Hc)\n"
   ]
  },
  {
   "cell_type": "markdown",
   "metadata": {},
   "source": [
    "And, that is our ** Hubble constant**. \n",
    "Various other ways exist to fine tune the value of this. We will cover those in later codes/video"
   ]
  }
 ],
 "metadata": {
  "kernelspec": {
   "display_name": "Python 2",
   "language": "python",
   "name": "python2"
  },
  "language_info": {
   "codemirror_mode": {
    "name": "ipython",
    "version": 2
   },
   "file_extension": ".py",
   "mimetype": "text/x-python",
   "name": "python",
   "nbconvert_exporter": "python",
   "pygments_lexer": "ipython2",
   "version": "2.7.13"
  }
 },
 "nbformat": 4,
 "nbformat_minor": 0
}
