{
 "cells": [
  {
   "cell_type": "code",
   "execution_count": 10,
   "metadata": {
    "collapsed": false
   },
   "outputs": [
    {
     "name": "stdout",
     "output_type": "stream",
     "text": [
      "Filename: postage.pl\n",
      "No.    Name         Type      Cards   Dimensions   Format\n",
      "0    PRIMARY     PrimaryHDU     169   (21, 21, 1, 1)   float32   \n"
     ]
    }
   ],
   "source": [
    "from astropy.io import fits\n",
    "# above line to import the necessary 'fits' package\n",
    "\n",
    "#why this 'no shape error?' because, its just a handler. so, intially lets see the info of the fits file.\n",
    "image_load=fits.open('postage.pl')\n",
    "image_load.info()"
   ]
  },
  {
   "cell_type": "markdown",
   "metadata": {},
   "source": [
    "In most fits files, data is stored in 'PRIMARY'. So, let us look at the PRIMARY segment now. Our 'data' array now holds the data from the image. Let us see the size of it."
   ]
  },
  {
   "cell_type": "markdown",
   "metadata": {},
   "source": [
    "the extra dimensions of 1L, 1L correspond to other axis. We have to drop them and extract only 21 x 21 matrix of our image. there is a numpy function called 'reshape' which we will use here. first convert the data to np array type."
   ]
  },
  {
   "cell_type": "code",
   "execution_count": 11,
   "metadata": {
    "collapsed": false
   },
   "outputs": [
    {
     "name": "stdout",
     "output_type": "stream",
     "text": [
      "(1L, 1L, 21L, 21L)\n",
      "(21L, 21L)\n"
     ]
    }
   ],
   "source": [
    "import numpy as np\n",
    "data=np.array(image_load[0].data)\n",
    "print(data.shape)\n",
    "# now, lets drop the extra dimensions. (original: 1,1,21,21) remember indexing starts from 0 in python. \n",
    "# So, index 0 orresponds to length1, index 1 : length 1, index 2: length 21, index3: length 21\n",
    "data=data.reshape(data.shape[2:])\n",
    "print(data.shape)\n",
    "# now, 'data' is a 2D matrix which holds the image data."
   ]
  },
  {
   "cell_type": "markdown",
   "metadata": {},
   "source": [
    "another easier way of doing these image opening, image_load[0].data tasks is to use: getdata function from fits.  Let us say, we have another copy of this fits file."
   ]
  },
  {
   "cell_type": "code",
   "execution_count": 12,
   "metadata": {
    "collapsed": false
   },
   "outputs": [
    {
     "data": {
      "text/plain": [
       "(1L, 1L, 21L, 21L)"
      ]
     },
     "execution_count": 12,
     "metadata": {},
     "output_type": "execute_result"
    }
   ],
   "source": [
    "data_easy=fits.getdata('postage - Copy.pl') # argument is fits file, not handler\n",
    "data_easy.shape"
   ]
  },
  {
   "cell_type": "markdown",
   "metadata": {},
   "source": [
    "now, that we have the data, let us plot it using matplotlib. let us use color bars and gray colour."
   ]
  },
  {
   "cell_type": "code",
   "execution_count": 13,
   "metadata": {
    "collapsed": false
   },
   "outputs": [],
   "source": [
    "import matplotlib.pyplot as plt\n",
    "plt.imshow(data, cmap='gray')\n",
    "plt.colorbar() # this shows the scale on right\n",
    "plt.show()"
   ]
  },
  {
   "cell_type": "markdown",
   "metadata": {},
   "source": [
    "next, lets plot the histogram. For this we need the data as a 1D-array. So, we append all lists to form one single row/array."
   ]
  },
  {
   "cell_type": "code",
   "execution_count": 14,
   "metadata": {
    "collapsed": false
   },
   "outputs": [],
   "source": [
    "plt.hist(data.flatten(),200) # 200 bins, flatten(): function to convert 2D array to 1D array by folding row-wise, plt.hist: histogram\n",
    "plt.show()# this is the command that displays the plot."
   ]
  },
  {
   "cell_type": "markdown",
   "metadata": {},
   "source": [
    "but, why does the plot (histogram) look weird. One reason, is that it has only 21x21 elements. so, when u have a bigger matrix i.e. more data, it will form a neater pattern. Also, for finding optimal scales, we can find the range easily:"
   ]
  },
  {
   "cell_type": "code",
   "execution_count": 15,
   "metadata": {
    "collapsed": false
   },
   "outputs": [
    {
     "name": "stdout",
     "output_type": "stream",
     "text": [
      "-0.0502236\n",
      "42.2413\n",
      "16.0214\n",
      "11.4214\n"
     ]
    }
   ],
   "source": [
    "print(np.min(data))\n",
    "print(np.max(data))\n",
    "print(np.mean(data))\n",
    "print(np.std(data))"
   ]
  },
  {
   "cell_type": "markdown",
   "metadata": {},
   "source": [
    "with that we come to the next small step of plotting the fits in log-scale."
   ]
  },
  {
   "cell_type": "code",
   "execution_count": 17,
   "metadata": {
    "collapsed": false
   },
   "outputs": [],
   "source": [
    "from matplotlib.colors import LogNorm\n",
    "\n",
    "plt.imshow(data, norm=LogNorm())\n",
    "plt.show()"
   ]
  }
 ],
 "metadata": {
  "kernelspec": {
   "display_name": "Python 2",
   "language": "python",
   "name": "python2"
  },
  "language_info": {
   "codemirror_mode": {
    "name": "ipython",
    "version": 2
   },
   "file_extension": ".py",
   "mimetype": "text/x-python",
   "name": "python",
   "nbconvert_exporter": "python",
   "pygments_lexer": "ipython2",
   "version": "2.7.12"
  }
 },
 "nbformat": 4,
 "nbformat_minor": 0
}
