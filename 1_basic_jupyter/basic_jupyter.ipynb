{
 "cells": [
  {
   "cell_type": "code",
   "execution_count": 4,
   "metadata": {
    "collapsed": false
   },
   "outputs": [
    {
     "name": "stdout",
     "output_type": "stream",
     "text": [
      "hello world :)\n"
     ]
    }
   ],
   "source": [
    "print \"hello world :)\""
   ]
  },
  {
   "cell_type": "code",
   "execution_count": 5,
   "metadata": {
    "collapsed": false
   },
   "outputs": [
    {
     "data": {
      "text/plain": [
       "3"
      ]
     },
     "execution_count": 5,
     "metadata": {},
     "output_type": "execute_result"
    }
   ],
   "source": [
    "a=1\n",
    "b=2\n",
    "a+b"
   ]
  },
  {
   "cell_type": "markdown",
   "metadata": {},
   "source": [
    "markdown is for adding normal text parts. useful for documentation.\n",
    "now, lets look at a function definition:"
   ]
  },
  {
   "cell_type": "code",
   "execution_count": 6,
   "metadata": {
    "collapsed": false
   },
   "outputs": [
    {
     "name": "stdout",
     "output_type": "stream",
     "text": [
      "inside function\n"
     ]
    }
   ],
   "source": [
    "def func():\n",
    "    print \"inside function\"\n",
    "    return\n",
    "func()"
   ]
  },
  {
   "cell_type": "markdown",
   "metadata": {},
   "source": [
    "now, lets import the file that we downloaded from vizier (hr catalog). we should linke the full path / copy-paste that file to current working directory."
   ]
  },
  {
   "cell_type": "code",
   "execution_count": 11,
   "metadata": {
    "collapsed": false
   },
   "outputs": [
    {
     "data": {
      "text/html": [
       "&lt;Table masked=True length=100&gt;\n",
       "<table id=\"table116584576\">\n",
       "<thead><tr><th>_RAJ2000</th><th>_DEJ2000</th><th>HD</th><th>RAJ2000</th><th>DEJ2000</th><th>Vmag</th><th>B-V</th><th>SpType</th></tr></thead>\n",
       "<thead><tr><th>float64</th><th>float64</th><th>int32</th><th>str10</th><th>str9</th><th>float64</th><th>float64</th><th>str14</th></tr></thead>\n",
       "<tr><td>1.2913</td><td>45.2292</td><td>3</td><td>00 05 09.9</td><td>+45 13 45</td><td>6.7</td><td>0.07</td><td>A1Vn</td></tr>\n",
       "<tr><td>1.2658</td><td>-0.5031</td><td>6</td><td>00 05 03.8</td><td>-00 30 11</td><td>6.29</td><td>1.1</td><td>gG9</td></tr>\n",
       "<tr><td>1.3337</td><td>-5.7075</td><td>28</td><td>00 05 20.1</td><td>-05 42 27</td><td>4.61</td><td>1.04</td><td>K0IIIbCN-0.5</td></tr>\n",
       "<tr><td>1.425</td><td>13.3961</td><td>87</td><td>00 05 42.0</td><td>+13 23 46</td><td>5.51</td><td>0.9</td><td>G5III</td></tr>\n",
       "<tr><td>1.5667</td><td>58.4367</td><td>123</td><td>00 06 16.0</td><td>+58 26 12</td><td>5.96</td><td>0.67</td><td>G5V</td></tr>\n",
       "<tr><td>1.5792</td><td>-49.075</td><td>142</td><td>00 06 19.0</td><td>-49 04 30</td><td>5.7</td><td>0.52</td><td>G1IV</td></tr>\n",
       "<tr><td>1.6104</td><td>64.1961</td><td>144</td><td>00 06 26.5</td><td>+64 11 46</td><td>5.59</td><td>-0.03</td><td>B9III</td></tr>\n",
       "<tr><td>1.6533</td><td>29.0214</td><td>166</td><td>00 06 36.8</td><td>+29 01 17</td><td>6.13</td><td>0.75</td><td>K0V</td></tr>\n",
       "<tr><td>1.7087</td><td>-23.1075</td><td>203</td><td>00 06 50.1</td><td>-23 06 27</td><td>6.18</td><td>0.38</td><td>A7V</td></tr>\n",
       "<tr><td>1.8258</td><td>-17.3864</td><td>256</td><td>00 07 18.2</td><td>-17 23 11</td><td>6.19</td><td>0.14</td><td>A6Vn</td></tr>\n",
       "<tr><td>...</td><td>...</td><td>...</td><td>...</td><td>...</td><td>...</td><td>...</td><td>...</td></tr>\n",
       "<tr><td>6.065</td><td>52.02</td><td>1976</td><td>00 24 15.6</td><td>+52 01 12</td><td>5.57</td><td>-0.12</td><td>B5IV</td></tr>\n",
       "<tr><td>--</td><td>--</td><td>--</td><td>--</td><td>--</td><td>--</td><td>--</td><td>--</td></tr>\n",
       "<tr><td>6.1979</td><td>61.8311</td><td>2011</td><td>00 24 47.5</td><td>+61 49 52</td><td>5.4</td><td>0.0</td><td>B9III</td></tr>\n",
       "<tr><td>6.1237</td><td>-2.2192</td><td>2023</td><td>00 24 29.7</td><td>-02 13 09</td><td>6.07</td><td>1.22</td><td>K1III</td></tr>\n",
       "<tr><td>--</td><td>--</td><td>--</td><td>--</td><td>--</td><td>--</td><td>--</td><td>--</td></tr>\n",
       "<tr><td>6.2767</td><td>53.0469</td><td>2054</td><td>00 25 06.4</td><td>+53 02 49</td><td>5.74</td><td>-0.06</td><td>B9IV</td></tr>\n",
       "<tr><td>6.3508</td><td>1.9397</td><td>2114</td><td>00 25 24.2</td><td>+01 56 23</td><td>5.77</td><td>0.86</td><td>G5III</td></tr>\n",
       "<tr><td>6.4379</td><td>-77.2542</td><td>2151</td><td>00 25 45.1</td><td>-77 15 15</td><td>2.8</td><td>0.62</td><td>G2IV</td></tr>\n",
       "<tr><td>6.5708</td><td>-42.3061</td><td>2261</td><td>00 26 17.0</td><td>-42 18 22</td><td>2.39</td><td>1.09</td><td>K0III</td></tr>\n",
       "<tr><td>6.5508</td><td>-43.68</td><td>2262</td><td>00 26 12.2</td><td>-43 40 48</td><td>3.94</td><td>0.17</td><td>A7V</td></tr>\n",
       "</table>"
      ],
      "text/plain": [
       "<Table masked=True length=100>\n",
       "_RAJ2000 _DEJ2000   HD   RAJ2000    DEJ2000    Vmag    B-V      SpType   \n",
       "float64  float64  int32   str10       str9   float64 float64    str14    \n",
       "-------- -------- ----- ---------- --------- ------- ------- ------------\n",
       "  1.2913  45.2292     3 00 05 09.9 +45 13 45     6.7    0.07         A1Vn\n",
       "  1.2658  -0.5031     6 00 05 03.8 -00 30 11    6.29     1.1          gG9\n",
       "  1.3337  -5.7075    28 00 05 20.1 -05 42 27    4.61    1.04 K0IIIbCN-0.5\n",
       "   1.425  13.3961    87 00 05 42.0 +13 23 46    5.51     0.9        G5III\n",
       "  1.5667  58.4367   123 00 06 16.0 +58 26 12    5.96    0.67          G5V\n",
       "  1.5792  -49.075   142 00 06 19.0 -49 04 30     5.7    0.52         G1IV\n",
       "  1.6104  64.1961   144 00 06 26.5 +64 11 46    5.59   -0.03        B9III\n",
       "  1.6533  29.0214   166 00 06 36.8 +29 01 17    6.13    0.75          K0V\n",
       "  1.7087 -23.1075   203 00 06 50.1 -23 06 27    6.18    0.38          A7V\n",
       "  1.8258 -17.3864   256 00 07 18.2 -17 23 11    6.19    0.14         A6Vn\n",
       "     ...      ...   ...        ...       ...     ...     ...          ...\n",
       "   6.065    52.02  1976 00 24 15.6 +52 01 12    5.57   -0.12         B5IV\n",
       "      --       --    --         --        --      --      --           --\n",
       "  6.1979  61.8311  2011 00 24 47.5 +61 49 52     5.4     0.0        B9III\n",
       "  6.1237  -2.2192  2023 00 24 29.7 -02 13 09    6.07    1.22        K1III\n",
       "      --       --    --         --        --      --      --           --\n",
       "  6.2767  53.0469  2054 00 25 06.4 +53 02 49    5.74   -0.06         B9IV\n",
       "  6.3508   1.9397  2114 00 25 24.2 +01 56 23    5.77    0.86        G5III\n",
       "  6.4379 -77.2542  2151 00 25 45.1 -77 15 15     2.8    0.62         G2IV\n",
       "  6.5708 -42.3061  2261 00 26 17.0 -42 18 22    2.39    1.09        K0III\n",
       "  6.5508   -43.68  2262 00 26 12.2 -43 40 48    3.94    0.17          A7V"
      ]
     },
     "execution_count": 11,
     "metadata": {},
     "output_type": "execute_result"
    }
   ],
   "source": [
    "from astropy.io import ascii\n",
    "table_hr=ascii.read('asu.tsv', data_start=3,delimiter=\";\")\n",
    "table_hr.colnames # gives the column names\n",
    "table_hr"
   ]
  }
 ],
 "metadata": {
  "kernelspec": {
   "display_name": "Python 2",
   "language": "python",
   "name": "python2"
  },
  "language_info": {
   "codemirror_mode": {
    "name": "ipython",
    "version": 2
   },
   "file_extension": ".py",
   "mimetype": "text/x-python",
   "name": "python",
   "nbconvert_exporter": "python",
   "pygments_lexer": "ipython2",
   "version": "2.7.11"
  }
 },
 "nbformat": 4,
 "nbformat_minor": 0
}
