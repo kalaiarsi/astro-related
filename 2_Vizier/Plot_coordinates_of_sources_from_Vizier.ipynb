{
 "cells": [
  {
   "cell_type": "code",
   "execution_count": null,
   "metadata": {
    "collapsed": true
   },
   "outputs": [],
   "source": [
    "import matplotlib.pyplot as plt\n",
    "from astropy.coordinates import SkyCoord\n",
    "from astropy import units as u\n",
    "from pandas import read_csv"
   ]
  },
  {
   "cell_type": "code",
   "execution_count": null,
   "metadata": {
    "collapsed": false
   },
   "outputs": [],
   "source": [
    "df=read_csv('asu_9110.tsv',sep=';') # check out video on basic formatting. \n",
    "df=df.dropna() # removes rows with missing values\n",
    "ra=df.RAJ2000.values # extracts the particular column\n",
    "de=df.DEJ2000.values\n",
    "s=[\"{} {}\".format(ra_, de_) for ra_, de_ in zip(ra, de)] # merges RA and DEC into one string\n",
    "c = SkyCoord(s, unit=(u.hourangle, u.deg)) # converts to radians\n",
    "\n",
    "fig = plt.figure() \n",
    "ax = fig.add_subplot(111, projection=\"mollweide\") # pattern to display\n",
    "ax.scatter(c.ra.wrap_at(180 * u.deg).radian, c.dec.radian) # to convert to standard -pi to +pi\n",
    "plt.show()"
   ]
  },
  {
   "cell_type": "markdown",
   "metadata": {},
   "source": [
    "downloaded the full set of 9110 rows from vizier (hr). lets format and try running that text file."
   ]
  }
 ],
 "metadata": {
  "kernelspec": {
   "display_name": "Python 2",
   "language": "python",
   "name": "python2"
  },
  "language_info": {
   "codemirror_mode": {
    "name": "ipython",
    "version": 2
   },
   "file_extension": ".py",
   "mimetype": "text/x-python",
   "name": "python",
   "nbconvert_exporter": "python",
   "pygments_lexer": "ipython2",
   "version": "2.7.11"
  }
 },
 "nbformat": 4,
 "nbformat_minor": 0
}
